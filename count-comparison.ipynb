{
 "cells": [
  {
   "cell_type": "code",
   "execution_count": 1,
   "id": "453b8910",
   "metadata": {},
   "outputs": [],
   "source": [
    "import os\n",
    "import re\n",
    "import pandas as pd"
   ]
  },
  {
   "cell_type": "code",
   "execution_count": 2,
   "id": "e2b80699",
   "metadata": {},
   "outputs": [],
   "source": [
    "def count_beds_in_folder(path, start_str=\"\", exclude_list=[\"ALL\"]):\n",
    "    \n",
    "    collection = path.split(\"/\")[-1]\n",
    "    \n",
    "    if start_str:\n",
    "        files = [x for x in os.listdir(path) if x.startswith(start_str)]\n",
    "    else:\n",
    "        files = os.listdir(path)\n",
    "        \n",
    "    data = []\n",
    "\n",
    "    for file_name in files:\n",
    "        type_search = re.search('_([a-z]*).bed', file_name, re.IGNORECASE)\n",
    "        \n",
    "        sv_type = type_search.group(1)\n",
    "        sv_count = 0\n",
    "\n",
    "        if sv_type in exclude_list:\n",
    "            continue\n",
    "        \n",
    "        with open(path + \"/\" + file_name) as file:\n",
    "            sv_count = len(file.readlines())\n",
    "\n",
    "        data.append({'collection': collection, 'type': sv_type, 'count': sv_count})\n",
    "\n",
    "    return data"
   ]
  },
  {
   "cell_type": "code",
   "execution_count": 4,
   "id": "dc5ba80b",
   "metadata": {},
   "outputs": [
    {
     "data": {
      "text/html": [
       "<div>\n",
       "<style scoped>\n",
       "    .dataframe tbody tr th:only-of-type {\n",
       "        vertical-align: middle;\n",
       "    }\n",
       "\n",
       "    .dataframe tbody tr th {\n",
       "        vertical-align: top;\n",
       "    }\n",
       "\n",
       "    .dataframe thead th {\n",
       "        text-align: right;\n",
       "    }\n",
       "</style>\n",
       "<table border=\"1\" class=\"dataframe\">\n",
       "  <thead>\n",
       "    <tr style=\"text-align: right;\">\n",
       "      <th></th>\n",
       "      <th>catalog</th>\n",
       "      <th>minimap2-pbsv</th>\n",
       "      <th>minimap2-sniffles</th>\n",
       "      <th>ngmlr-sniffles</th>\n",
       "    </tr>\n",
       "    <tr>\n",
       "      <th>type</th>\n",
       "      <th></th>\n",
       "      <th></th>\n",
       "      <th></th>\n",
       "      <th></th>\n",
       "    </tr>\n",
       "  </thead>\n",
       "  <tbody>\n",
       "    <tr>\n",
       "      <th>DEL</th>\n",
       "      <td>17540</td>\n",
       "      <td>30401</td>\n",
       "      <td>25958</td>\n",
       "      <td>25311</td>\n",
       "    </tr>\n",
       "    <tr>\n",
       "      <th>DELINV</th>\n",
       "      <td>0</td>\n",
       "      <td>0</td>\n",
       "      <td>614</td>\n",
       "      <td>426</td>\n",
       "    </tr>\n",
       "    <tr>\n",
       "      <th>DUP</th>\n",
       "      <td>0</td>\n",
       "      <td>3442</td>\n",
       "      <td>97</td>\n",
       "      <td>1212</td>\n",
       "    </tr>\n",
       "    <tr>\n",
       "      <th>INS</th>\n",
       "      <td>9406</td>\n",
       "      <td>31896</td>\n",
       "      <td>26533</td>\n",
       "      <td>25175</td>\n",
       "    </tr>\n",
       "    <tr>\n",
       "      <th>INV</th>\n",
       "      <td>99</td>\n",
       "      <td>171</td>\n",
       "      <td>209</td>\n",
       "      <td>395</td>\n",
       "    </tr>\n",
       "  </tbody>\n",
       "</table>\n",
       "</div>"
      ],
      "text/plain": [
       "        catalog  minimap2-pbsv  minimap2-sniffles  ngmlr-sniffles\n",
       "type                                                             \n",
       "DEL       17540          30401              25958           25311\n",
       "DELINV        0              0                614             426\n",
       "DUP           0           3442                 97            1212\n",
       "INS        9406          31896              26533           25175\n",
       "INV          99            171                209             395"
      ]
     },
     "execution_count": 4,
     "metadata": {},
     "output_type": "execute_result"
    },
    {
     "data": {
      "image/png": "[encoded data removed]",
      "text/plain": [
       "<Figure size 864x432 with 1 Axes>"
      ]
     },
     "metadata": {
      "needs_background": "light"
     },
     "output_type": "display_data"
    }
   ],
   "source": [
    "folders = [\"../../data/previous-catalog/50/DBA2J/catalog\",\n",
    "          \"../../data/DBA2J/bed/50/minimap2-sniffles\",\n",
    "          \"../../data/DBA2J/bed/50/ngmlr-sniffles\",\n",
    "          \"../../data/DBA2J/bed/50/minimap2-pbsv\"]\n",
    "\n",
    "raw_data = pd.DataFrame()\n",
    "\n",
    "for folder in folders:\n",
    "    df = pd.DataFrame(count_beds_in_folder(folder))\n",
    "    raw_data = raw_data.append(df)\n",
    "\n",
    "raw_data = raw_data.groupby([\"collection\", \"type\"]).sum().unstack(\"collection\").fillna(0).sort_index(key=lambda x: x.map(lambda v: v)).astype('int32')\n",
    "\n",
    "# Drop some rows for plotting?\n",
    "raw_data = raw_data.drop(['CNV', 'TANDEMDUP', 'TANDEMDUPINV', 'TANDEMLOWDUP', 'DUPINS', 'GAIN', 'INVDEL'])\n",
    "# raw_data=(raw_data-raw_data.min())/(raw_data.max()-raw_data.min())\n",
    "\n",
    "cols = []\n",
    "for col in raw_data.columns:\n",
    "    cols.append(col[1])\n",
    "raw_data.columns = cols\n",
    "\n",
    "\n",
    "ax = raw_data.plot.bar(figsize=(12,6), width=0.85, stacked=False, rot=45)\n",
    "raw_data"
   ]
  },
  {
   "cell_type": "code",
   "execution_count": null,
   "id": "f22e67d9",
   "metadata": {},
   "outputs": [],
   "source": []
  }
 ],
 "metadata": {
  "kernelspec": {
   "display_name": "Python [conda env:sv] *",
   "language": "python",
   "name": "conda-env-sv-py"
  },
  "language_info": {
   "codemirror_mode": {
    "name": "ipython",
    "version": 3
   },
   "file_extension": ".py",
   "mimetype": "text/x-python",
   "name": "python",
   "nbconvert_exporter": "python",
   "pygments_lexer": "ipython3",
   "version": "3.7.10"
  }
 },
 "nbformat": 4,
 "nbformat_minor": 5
}
