{
 "cells": [
  {
   "cell_type": "code",
   "execution_count": 12,
   "id": "64fdc593",
   "metadata": {},
   "outputs": [],
   "source": [
    "import pathlib\n",
    "import pandas as pd\n",
    "import seedir as sd"
   ]
  },
  {
   "cell_type": "markdown",
   "id": "8bc77417",
   "metadata": {},
   "source": [
    "### Parse Info\n",
    "This function parses sniffles column 8 (INFO) to extract the Type, End, Lenght, and Chr2 of the Strcutural variant. \n",
    "\n",
    "Sample data at index 7:\n",
    "```\n",
    "PRECISE;SVMETHOD=Snifflesv1.0.12;CHR2=1;END=3097326;ZMW=17;STD_quant_start=0.000000;STD_quant_stop=1.897367;Kurtosis_quant_start=2.000000;Kurtosis_quant_stop=1.946987;SVTYPE=INS;SUPTYPE=AL;SVLEN=3644;STRANDS=+-;STRANDS2=9,8,9,8;RE=17;REF_strand=14,14;Strandbias_pval=1;AF=0.377778\n",
    "```"
   ]
  },
  {
   "cell_type": "code",
   "execution_count": 13,
   "id": "464dd0c2",
   "metadata": {},
   "outputs": [],
   "source": [
    "def parse_info(line_array, infoIndex):\n",
    "    \n",
    "    dict_values={'SVTYPE':'NN', 'END':-1, 'CHR2':'', 'SVLEN':0}\n",
    "    \n",
    "    if(len(line_array)<=infoIndex):\n",
    "        return dict_values\n",
    "    \n",
    "    infoString=line_array[infoIndex]\n",
    "    info_array = infoString.split(\";\");\n",
    "    \n",
    "    if(len(info_array)<=2):\n",
    "        return dict_values\n",
    "    \n",
    "    for k, v in dict_values.items():\n",
    "        for item in info_array:\n",
    "            if(k+\"=\" in item):\n",
    "                dict_values[k]=item.replace(k+\"=\",\"\")\n",
    "                break\n",
    "    \n",
    "    return dict_values"
   ]
  },
  {
   "cell_type": "markdown",
   "id": "6a05c16f",
   "metadata": {},
   "source": [
    "### Generate BED File\n",
    "\n",
    "The output file has the following format:\n",
    "\n",
    "Column | Data         | Comment                          \n",
    ":---   | ---          | ---                              \n",
    "Col1   | chr num      | 'chr' prefixed                   \n",
    "Col2   | start        | from sniffles output column (2)  \n",
    "Col3   | end          | fom info data                    \n",
    "Col4   | length       | fom info data                    \n",
    "Col5   | type         | fom info data                    "
   ]
  },
  {
   "cell_type": "code",
   "execution_count": 14,
   "id": "36bc9935",
   "metadata": {},
   "outputs": [],
   "source": [
    "def bed_from_vcf(strain_name, input_file, final_dir, custom_mappings={}, unified_file=False,\n",
    "                 split_precise=False, fix_coordinates=True, exclude_bnd=True, exlude_noend=True):\n",
    "\n",
    "    chr_names=[\"chr1\",\"chr2\",\"chr3\",\"chr4\",\"chr5\",\"chr6\",\"chr7\",\"chr8\",\"chr9\",\"chr10\",\"chr11\",\"chr12\",\"chr13\",\"chr14\",\"chr15\",\"chr16\",\"chr17\",\"chr18\",\"chr19\",\"chrX\",\"chrY\"]\n",
    "    nucleotides = [\"A\", \"T\", \"G\", \"C\"]\n",
    "\n",
    "    type_dicts = {}\n",
    "    all_types = []\n",
    "    \n",
    "    with open(input_file, \"r\") as vcf_file:\n",
    "        for line in vcf_file:\n",
    "            line_array=line.strip().split(\"\\t\")\n",
    "\n",
    "            if(len(line_array) <8 or line.startswith(\"#\")):\n",
    "                continue\n",
    "\n",
    "            chr1=\"chr\"+line_array[0]\n",
    "            start=int(line_array[1])-1\n",
    "            info=parse_info(line_array, 7)\n",
    "\n",
    "            end=int(info['END'])-1\n",
    "            length=abs(int(info['SVLEN']))\n",
    "\n",
    "            sv_type = info['SVTYPE'].replace(\"/\",\"\").upper()\n",
    "            sv_type = custom_mappings.get(sv_type, sv_type)\n",
    "            \n",
    "            if unified_file:\n",
    "                sv_type =  \"ALL\"\n",
    "\n",
    "            if((exclude_bnd and info['SVTYPE']=='BND') or (chr1 not in chr_names) or (exlude_noend and info['END']==-1)):\n",
    "                continue\n",
    "\n",
    "            if fix_coordinates and start > end:\n",
    "                aux = start\n",
    "                start = end\n",
    "                end = aux\n",
    "\n",
    "            if fix_coordinates and start == end:\n",
    "                end + end +1\n",
    "\n",
    "            if split_precise:\n",
    "                if any(e in str(line_array[4]) for e in nucleotides):\n",
    "                    sv_type += \"_precise\"\n",
    "                else:\n",
    "                    sv_type += \"_other\"\n",
    "\n",
    "\n",
    "            type_entries = type_dicts.get(sv_type, [])\n",
    "            type_entries.append({\"chr\": chr1, \"start\": start, \"end\": end, \"len\": str(length)}) \n",
    "\n",
    "            type_dicts[sv_type]=type_entries\n",
    "        \n",
    "        pathlib.Path(final_dir).mkdir(parents=True, exist_ok=True)\n",
    "        \n",
    "        for type_dict in type_dicts.keys():\n",
    "                type_df = pd.DataFrame(type_dicts[type_dict])\n",
    "                type_df.to_csv(final_dir + strain_name + \"_\" + type_dict + \".bed\", sep='\\t', index=False, header=False)\n",
    "\n",
    "        all_types = list(set(all_types) | set([*type_dicts]))\n",
    "        \n",
    "    return all_types"
   ]
  },
  {
   "cell_type": "code",
   "execution_count": 18,
   "id": "a767af79",
   "metadata": {},
   "outputs": [
    {
     "data": {
      "text/plain": [
       "['ALL']"
      ]
     },
     "execution_count": 18,
     "metadata": {},
     "output_type": "execute_result"
    }
   ],
   "source": [
    "sv_file_path = '../../data/DBA2J/calls/r64089e.minimap2_sniffles.vcf'\n",
    "final_dir = '../../data/DBA2J/bed/minimap2-sniffles/'\n",
    "\n",
    "# sv_file_path = '../../data/DBA2J/calls/r64089e-ngmlr_sniffles.vcf'\n",
    "# final_dir = '../../data/DBA2J/bed/ngmlr-sniffles/'\n",
    "\n",
    "# sv_file_path = '../../data/DBA2J/calls/r64089e-minimap2_pbsv.vcf'\n",
    "# final_dir = '../../data/DBA2J/bed/minimap2-pbsv/'\n",
    "\n",
    "custom_mappings={\n",
    "    \"DEL\": \"DEL\",\n",
    "    \"DELINS\": \"DEL\",\n",
    "    \"DELLINKED\": \"DEL\",\n",
    "    \"INS\": \"INS\",\n",
    "    \"INSLINKED\": \"INS\",\n",
    "    \"INSLINKEDINS\": \"INS\",\n",
    "    \"INV\": \"INV\",\n",
    "    \"INVDELINS\": \"INV\",\n",
    "    \"INVINS\": \"INV\",\n",
    "    \"INVDUP\": \"INV\",\n",
    "    \n",
    "}\n",
    "\n",
    "bed_from_vcf(\"DBA2J\", sv_file_path, final_dir, custom_mappings, True)"
   ]
  },
  {
   "cell_type": "code",
   "execution_count": 8,
   "id": "368386a2",
   "metadata": {},
   "outputs": [
    {
     "name": "stdout",
     "output_type": "stream",
     "text": [
      "📁 bed/\n",
      "├─📁 minimap2-pbsv/\n",
      "│ ├─📄 DBA2J_CNV.bed\n",
      "│ ├─📄 DBA2J_DEL.bed\n",
      "│ ├─📄 DBA2J_DUP.bed\n",
      "│ ├─📄 DBA2J_INS.bed\n",
      "│ └─📄 DBA2J_INV.bed\n",
      "├─📁 minimap2-sniffles/\n",
      "│ ├─📄 DBA2J_DEL.bed\n",
      "│ ├─📄 DBA2J_DELINV.bed\n",
      "│ ├─📄 DBA2J_DUP.bed\n",
      "│ ├─📄 DBA2J_INS.bed\n",
      "│ ├─📄 DBA2J_INV.bed\n",
      "│ ├─📄 DBA2J_INVDUP.bed\n",
      "│ └─📁 precise/\n",
      "├─📁 ngmlr-sniffles/\n",
      "│ ├─📄 DBA2J_DEL.bed\n",
      "│ ├─📄 DBA2J_DELINV.bed\n",
      "│ ├─📄 DBA2J_DUP.bed\n",
      "│ ├─📄 DBA2J_DUPINS.bed\n",
      "│ ├─📄 DBA2J_INS.bed\n",
      "│ ├─📄 DBA2J_INV.bed\n",
      "│ ├─📄 DBA2J_INVDUP.bed\n",
      "│ └─📁 precise/\n",
      "├─📄 r64089e.minimap2-sniffles.bed\n",
      "├─📄 r64089e.minimap2-sniffles_other.bed\n",
      "└─📄 r64089e.minimap2-sniffles_precise.bed\n"
     ]
    }
   ],
   "source": [
    "sd.seedir(\"../../data/DBA2J/bed/\", style='emoji', itemlimit=10, depthlimit=2, include_files='.*\\.bed$', regex=True, sort=True)"
   ]
  },
  {
   "cell_type": "code",
   "execution_count": null,
   "id": "94cb67dc",
   "metadata": {},
   "outputs": [],
   "source": []
  }
 ],
 "metadata": {
  "kernelspec": {
   "display_name": "Python [conda env:sv] *",
   "language": "python",
   "name": "conda-env-sv-py"
  },
  "language_info": {
   "codemirror_mode": {
    "name": "ipython",
    "version": 3
   },
   "file_extension": ".py",
   "mimetype": "text/x-python",
   "name": "python",
   "nbconvert_exporter": "python",
   "pygments_lexer": "ipython3",
   "version": "3.7.0"
  }
 },
 "nbformat": 4,
 "nbformat_minor": 5
}
