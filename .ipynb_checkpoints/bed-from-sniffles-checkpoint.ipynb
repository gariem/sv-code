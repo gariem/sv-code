{
 "cells": [
  {
   "cell_type": "code",
   "execution_count": 38,
   "id": "abe4075d",
   "metadata": {},
   "outputs": [],
   "source": [
    "sv_file_path='../../data/r64089e.sorted.vcf'\n",
    "sv_file = open(sv_file_path)"
   ]
  },
  {
   "cell_type": "code",
   "execution_count": 39,
   "id": "464dd0c2",
   "metadata": {},
   "outputs": [],
   "source": [
    "def parseInfo(line_array, infoIndex):\n",
    "    \n",
    "    dict_values={'SVTYPE':'', 'END':-1, 'CHR2':'', 'SVLEN':-1}\n",
    "    \n",
    "    if(len(line_array)<=infoIndex):\n",
    "        print(\"Skip: \" + line_array)\n",
    "        return dict_values\n",
    "    \n",
    "    infoString=line_array[infoIndex]\n",
    "    info_array = infoString.split(\";\");\n",
    "    \n",
    "    if(len(info_array)<=2):\n",
    "        print(\"Skip: \" + infoString)\n",
    "        return dict_values\n",
    "    \n",
    "    for k, v in dict_values.items():\n",
    "        for item in info_array:\n",
    "            if(k+\"=\" in item):\n",
    "                dict_values[k]=item.replace(k+\"=\",\"\")\n",
    "                break\n",
    "    \n",
    "    return dict_values"
   ]
  },
  {
   "cell_type": "code",
   "execution_count": 40,
   "id": "36bc9935",
   "metadata": {},
   "outputs": [
    {
     "name": "stdout",
     "output_type": "stream",
     "text": [
      "Skip: INFO\n",
      "Skip: GT:DR:DV\n",
      "Skip: GT:DR:DV\n",
      "Skip: GT:DR:DV\n",
      "Skip: GT:DR:DV\n",
      "Skip: GT:DR:DV\n",
      "Skip: GT:DR:DV\n",
      "Skip: GT:DR:DV\n",
      "Skip: GT:DR:DV\n",
      "Skip: GT:DR:DV\n",
      "Skip: GT:DR:DV\n",
      "Skip: GT:DR:DV\n",
      "Skip: GT:DR:DV\n",
      "Skip: GT:DR:DV\n",
      "Skip: GT:DR:DV\n",
      "Skip: GT:DR:DV\n",
      "Skip: GT:DR:DV\n",
      "Skip: GT:DR:DV\n",
      "Skip: GT:DR:DV\n"
     ]
    }
   ],
   "source": [
    "limit=-1\n",
    "index=0\n",
    "exclude_bnd=True\n",
    "exlude_noend=True \n",
    "\n",
    "chr_names=[\"chr1\",\"chr2\",\"chr3\",\"chr4\",\"chr5\",\"chr6\",\"chr7\",\"chr8\",\"chr9\",\"chr10\",\"chr11\",\"chr12\",\"chr13\",\"chr14\",\"chr15\",\"chr16\",\"chr17\",\"chr18\",\"chr19\"]\n",
    "\n",
    "with open(sv_file_path + '.bed', 'w') as file:\n",
    "    for line in sv_file.readlines():\n",
    "        line_array=line.strip().split(\"\\t\")\n",
    "\n",
    "        if(len(line_array) <8):\n",
    "            continue\n",
    "        index+=1\n",
    "\n",
    "        chr1=\"chr\"+line_array[0]\n",
    "        start=line_array[1]\n",
    "        info=parseInfo(line_array, 7)\n",
    "\n",
    "        if((exclude_bnd and info['SVTYPE']=='BND') or (chr1 not in chr_names) or (exlude_noend and info['END']==-1)):\n",
    "            continue\n",
    "\n",
    "        out_line=chr1+\"\\t\"+str(start)+\"\\t\"+str(info['END'])+\"\\t\"+str(abs(int(info['SVLEN'])))+\"\\t\"+info['SVTYPE']+\"\\n\"\n",
    "        file.write(out_line)\n",
    "\n",
    "        if(limit!=-1 and index>=limit):\n",
    "            break"
   ]
  },
  {
   "cell_type": "code",
   "execution_count": null,
   "id": "368386a2",
   "metadata": {},
   "outputs": [],
   "source": []
  },
  {
   "cell_type": "code",
   "execution_count": null,
   "id": "3d834731",
   "metadata": {},
   "outputs": [],
   "source": []
  }
 ],
 "metadata": {
  "kernelspec": {
   "display_name": "Python [conda env:sv] *",
   "language": "python",
   "name": "conda-env-sv-py"
  },
  "language_info": {
   "codemirror_mode": {
    "name": "ipython",
    "version": 3
   },
   "file_extension": ".py",
   "mimetype": "text/x-python",
   "name": "python",
   "nbconvert_exporter": "python",
   "pygments_lexer": "ipython3",
   "version": "3.7.11"
  }
 },
 "nbformat": 4,
 "nbformat_minor": 5
}
