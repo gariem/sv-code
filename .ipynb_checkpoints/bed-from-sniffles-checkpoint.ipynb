{
 "cells": [
  {
   "cell_type": "markdown",
   "id": "8bc77417",
   "metadata": {},
   "source": [
    "### Parse Info\n",
    "This function parses sniffles column 8 (INFO) to extract the Type, End, Lenght, and Chr2 of the Strcutural variant. \n",
    "\n",
    "Sample data at index 7:\n",
    "```\n",
    "PRECISE;SVMETHOD=Snifflesv1.0.12;CHR2=1;END=3097326;ZMW=17;STD_quant_start=0.000000;STD_quant_stop=1.897367;Kurtosis_quant_start=2.000000;Kurtosis_quant_stop=1.946987;SVTYPE=INS;SUPTYPE=AL;SVLEN=3644;STRANDS=+-;STRANDS2=9,8,9,8;RE=17;REF_strand=14,14;Strandbias_pval=1;AF=0.377778\n",
    "```"
   ]
  },
  {
   "cell_type": "code",
   "execution_count": 2,
   "id": "464dd0c2",
   "metadata": {},
   "outputs": [],
   "source": [
    "def parseInfo(line_array, infoIndex):\n",
    "    \n",
    "    dict_values={'SVTYPE':'NN', 'END':-1, 'CHR2':'', 'SVLEN':0}\n",
    "    \n",
    "    if(len(line_array)<=infoIndex):\n",
    "        return dict_values\n",
    "    \n",
    "    infoString=line_array[infoIndex]\n",
    "    info_array = infoString.split(\";\");\n",
    "    \n",
    "    if(len(info_array)<=2):\n",
    "        return dict_values\n",
    "    \n",
    "    for k, v in dict_values.items():\n",
    "        for item in info_array:\n",
    "            if(k+\"=\" in item):\n",
    "                dict_values[k]=item.replace(k+\"=\",\"\")\n",
    "                break\n",
    "    \n",
    "    return dict_values"
   ]
  },
  {
   "cell_type": "code",
   "execution_count": 3,
   "id": "a702253e",
   "metadata": {},
   "outputs": [
    {
     "data": {
      "text/html": [
       "<style>table {display: inline-block}</style>\n"
      ],
      "text/plain": [
       "<IPython.core.display.HTML object>"
      ]
     },
     "metadata": {},
     "output_type": "display_data"
    }
   ],
   "source": [
    "%%html \n",
    "<style>table {display: inline-block}</style>"
   ]
  },
  {
   "cell_type": "markdown",
   "id": "6a05c16f",
   "metadata": {},
   "source": [
    "### Generate BED File\n",
    "\n",
    "The output file has the following format:\n",
    "\n",
    "Column | Data         | Comment                          \n",
    ":---   | ---          | ---                              \n",
    "Col1   | chr num      | 'chr' prefixed                   \n",
    "Col2   | start        | from sniffles output column (2)  \n",
    "Col3   | end          | fom info data                    \n",
    "Col4   | length       | fom info data                    \n",
    "Col5   | type         | fom info data                    "
   ]
  },
  {
   "cell_type": "code",
   "execution_count": 4,
   "id": "da57bd90",
   "metadata": {},
   "outputs": [],
   "source": [
    "sv_file_path='../../data/r64089e.sorted.vcf'\n",
    "bed_file_path=sv_file_path + \".bed\""
   ]
  },
  {
   "cell_type": "code",
   "execution_count": 5,
   "id": "36bc9935",
   "metadata": {},
   "outputs": [],
   "source": [
    "limit=-1\n",
    "index=0\n",
    "exclude_bnd=True\n",
    "exlude_noend=True \n",
    "\n",
    "chr_names=[\"chr1\",\"chr2\",\"chr3\",\"chr4\",\"chr5\",\"chr6\",\"chr7\",\"chr8\",\"chr9\",\"chr10\",\"chr11\",\"chr12\",\"chr13\",\"chr14\",\"chr15\",\"chr16\",\"chr17\",\"chr18\",\"chr19\"]\n",
    "\n",
    "sv_file = open(sv_file_path)\n",
    "\n",
    "with open(bed_file_path, 'w') as file:\n",
    "    for line in sv_file.readlines():\n",
    "        line_array=line.strip().split(\"\\t\")\n",
    "\n",
    "        if(len(line_array) <8):\n",
    "            continue\n",
    "        index+=1\n",
    "\n",
    "        chr1=\"chr\"+line_array[0]\n",
    "        start=line_array[1]\n",
    "        info=parseInfo(line_array, 7)\n",
    "\n",
    "        if((exclude_bnd and info['SVTYPE']=='BND') or (chr1 not in chr_names) or (exlude_noend and info['END']==-1)):\n",
    "            continue\n",
    "\n",
    "        out_line=chr1+\"\\t\"+str(start)+\"\\t\"+str(info['END'])+\"\\t\"+str(abs(int(info['SVLEN'])))+\"\\t\"+info['SVTYPE']+\"\\n\"\n",
    "        file.write(out_line)\n",
    "\n",
    "        if(limit!=-1 and index>=limit):\n",
    "            break"
   ]
  },
  {
   "cell_type": "code",
   "execution_count": 6,
   "id": "368386a2",
   "metadata": {},
   "outputs": [
    {
     "name": "stdout",
     "output_type": "stream",
     "text": [
      "chr1\t3090436\t3090438\t2800\tINS\n",
      "\n",
      "chr1\t3097326\t3097326\t3644\tINS\n",
      "\n",
      "chr1\t3099521\t3099521\t32\tINS\n",
      "\n",
      "chr1\t3101583\t3101940\t357\tDEL\n",
      "\n",
      "chr1\t3108755\t3108821\t66\tDEL\n",
      "\n",
      "chr1\t3120398\t3120398\t115\tINS\n",
      "\n",
      "chr1\t3121617\t3121617\t104\tINS\n",
      "\n",
      "chr1\t3135255\t3135255\t34\tINS\n",
      "\n",
      "chr1\t3147022\t3147484\t462\tDEL\n",
      "\n",
      "chr1\t3148891\t3148891\t38\tINS\n",
      "\n"
     ]
    }
   ],
   "source": [
    "with open(bed_file_path, 'r') as file:\n",
    "    for i in range(10):\n",
    "        line = file.readline()\n",
    "        print(line)"
   ]
  },
  {
   "cell_type": "code",
   "execution_count": null,
   "id": "2f24f7d8",
   "metadata": {},
   "outputs": [],
   "source": []
  }
 ],
 "metadata": {
  "kernelspec": {
   "display_name": "Python [conda env:sv] *",
   "language": "python",
   "name": "conda-env-sv-py"
  },
  "language_info": {
   "codemirror_mode": {
    "name": "ipython",
    "version": 3
   },
   "file_extension": ".py",
   "mimetype": "text/x-python",
   "name": "python",
   "nbconvert_exporter": "python",
   "pygments_lexer": "ipython3",
   "version": "3.7.11"
  }
 },
 "nbformat": 4,
 "nbformat_minor": 5
}
