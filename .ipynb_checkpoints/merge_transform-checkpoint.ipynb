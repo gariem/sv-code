{
 "cells": [
  {
   "cell_type": "code",
   "execution_count": 1,
   "id": "5111b3cb",
   "metadata": {},
   "outputs": [],
   "source": [
    "import os\n",
    "import pandas as pd"
   ]
  },
  {
   "cell_type": "markdown",
   "id": "42419046",
   "metadata": {},
   "source": [
    "### BED to TAB"
   ]
  },
  {
   "cell_type": "code",
   "execution_count": 57,
   "id": "df1eac0e",
   "metadata": {},
   "outputs": [],
   "source": [
    "folders=['/home/egarcia/workspace/dba2jmerge/REL-01/sv_calls_Jul0410/ngmlr',\n",
    "         '/home/egarcia/workspace/dba2jmerge/REL-01/sv_calls_Jul0410/sniffles',\n",
    "         '/home/egarcia/workspace/dba2jmerge/REL-01/sv_calls_Jul0410/pbsv']\n",
    "\n",
    "for folder in folders:\n",
    "    caller=folder.split(\"/\")[-1]\n",
    "    files = os.listdir(folder)\n",
    "    for file_name in files:\n",
    "        svtype = file_name.lower().split(\"_\")[0]\n",
    "        file_data = pd.read_csv(folder + '/' + file_name, sep='\\t', low_memory=False, header=None)\n",
    "        file_data[3]=svtype +'_'+ caller +'_DBA2J_'+file_data[3].map(str) \n",
    "        file_data.to_csv(folder + '/' + svtype + '.tab', sep='\\t', index=False, header=False)"
   ]
  },
  {
   "cell_type": "markdown",
   "id": "f292b545",
   "metadata": {},
   "source": [
    "### TAB to BED"
   ]
  },
  {
   "cell_type": "code",
   "execution_count": 2,
   "id": "3c782b5a",
   "metadata": {},
   "outputs": [],
   "source": [
    "folder='/home/egarcia/workspace/data/DBA2J/bed/50/merged'\n",
    "files = os.listdir(folder)\n",
    "for file_name in files:\n",
    "        svtype = file_name.upper().split(\".\")[0]\n",
    "        file_data = pd.read_csv(folder + '/' + file_name, sep='\\t', low_memory=False, header=None)\n",
    "        file_data[3]=file_data[3].map(lambda val: val.split(\"_\")[-1])\n",
    "        file_data.to_csv(folder + '/' + svtype + '_DBA2J.bed', sep='\\t', index=False, header=False)"
   ]
  },
  {
   "cell_type": "code",
   "execution_count": null,
   "id": "90427cad",
   "metadata": {},
   "outputs": [],
   "source": []
  },
  {
   "cell_type": "code",
   "execution_count": null,
   "id": "99533ab5",
   "metadata": {},
   "outputs": [],
   "source": []
  }
 ],
 "metadata": {
  "kernelspec": {
   "display_name": "Python [conda env:sv] *",
   "language": "python",
   "name": "conda-env-sv-py"
  },
  "language_info": {
   "codemirror_mode": {
    "name": "ipython",
    "version": 3
   },
   "file_extension": ".py",
   "mimetype": "text/x-python",
   "name": "python",
   "nbconvert_exporter": "python",
   "pygments_lexer": "ipython3",
   "version": "3.7.10"
  }
 },
 "nbformat": 4,
 "nbformat_minor": 5
}
