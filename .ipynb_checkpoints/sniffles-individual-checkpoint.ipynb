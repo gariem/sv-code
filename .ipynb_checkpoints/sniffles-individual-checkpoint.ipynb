{
 "cells": [
  {
   "cell_type": "code",
   "execution_count": 235,
   "id": "586cc48c",
   "metadata": {},
   "outputs": [],
   "source": [
    "import os\n",
    "import re\n",
    "import pandas as pd\n",
    "import pathlib\n",
    "import scipy.stats as stats\n",
    "import matplotlib.pyplot as plt"
   ]
  },
  {
   "cell_type": "code",
   "execution_count": 36,
   "id": "a9122320",
   "metadata": {},
   "outputs": [],
   "source": [
    "def parse_info(line_array, infoIndex):\n",
    "    \n",
    "    dict_values={'SVTYPE':'NN', 'END':-1, 'CHR2':'', 'SVLEN':0, 'SUPP_VEC':0, 'AF':0.0, 'RE':0}\n",
    "    \n",
    "    if(len(line_array)<=infoIndex):\n",
    "        return dict_values\n",
    "    \n",
    "    infoString=line_array[infoIndex]\n",
    "    info_array = infoString.split(\";\");\n",
    "    \n",
    "    if(len(info_array)<=2):\n",
    "        return dict_values\n",
    "    \n",
    "    for k, v in dict_values.items():\n",
    "        for item in info_array:\n",
    "            if(k+\"=\" in item):\n",
    "                dict_values[k]=item.replace(k+\"=\",\"\")\n",
    "                break\n",
    "    \n",
    "    return dict_values"
   ]
  },
  {
   "cell_type": "code",
   "execution_count": 157,
   "id": "26453ad8",
   "metadata": {},
   "outputs": [],
   "source": [
    "custom_mappings={\n",
    "    \"DEL\": \"DEL\",\n",
    "    \"DELINS\": \"DEL\",\n",
    "    \"DELLINKED\": \"DEL\",\n",
    "    \"INS\": \"INS\",\n",
    "    \"INSLINKED\": \"INS\",\n",
    "    \"INSLINKEDINS\": \"INS\",\n",
    "    \"INV\": \"INV\",\n",
    "    \"INVDELINS\": \"INV\",\n",
    "    \"INVINS\": \"INV\",\n",
    "    \"INVDUP\": \"INV\",\n",
    "    \"INVDEL\": \"INV\",\n",
    "    \"DELINV\": \"INV\",\n",
    "    \"DUP\": \"DUP\",\n",
    "    \"GAIN\": \"DUP\",\n",
    "    \"DUPINS\": \"DUP\",\n",
    "    \"CNV\": \"DUP\",\n",
    "    \"TANDEMDUP\": \"DUP\",\n",
    "    \"TANDEMDUPINV\": \"DUP\",\n",
    "    \"TANDEMLOWDUP\": \"DUP\",\n",
    "}\n",
    "\n",
    "sv_file_path = '../../data/DBA2J/calls/r64089e.minimap2_sniffles.vcf'\n",
    "chr_names=[\"1\",\"2\",\"3\",\"4\",\"5\",\"6\",\"7\",\"8\",\"9\",\"10\",\"11\",\"12\",\"13\",\"14\",\"15\",\"16\",\"17\",\"18\",\"19\",\"X\"]\n",
    "\n",
    "data = []\n",
    "all_types = []\n",
    "af_values = []\n",
    "\n",
    "with open(sv_file_path, \"r\") as vcf_file:\n",
    "    for line in vcf_file:\n",
    "        line_array=line.strip().split(\"\\t\")\n",
    "\n",
    "        if(len(line_array) <8 or line.startswith(\"#\")):\n",
    "            continue\n",
    "\n",
    "        chr1=line_array[0]\n",
    "        start=int(line_array[1])-1\n",
    "        info=parse_info(line_array, 7)\n",
    "\n",
    "        end=int(info['END'])-1\n",
    "        length=abs(int(info['SVLEN']))\n",
    "        sup_vec=info['SUPP_VEC']\n",
    "\n",
    "        sv_type = info['SVTYPE'].replace(\"/\",\"\").upper()\n",
    "        sv_type = custom_mappings.get(sv_type, sv_type)\n",
    "        af = info['AF']\n",
    "        reads = info['RE']\n",
    "\n",
    "        if(info['SVTYPE']=='BND' or chr1 not in chr_names or info['END']==-1):\n",
    "            continue\n",
    "\n",
    "        data.append({'reads': reads, 'af': af})\n",
    "        \n"
   ]
  },
  {
   "cell_type": "code",
   "execution_count": 158,
   "id": "1c74ee7c",
   "metadata": {},
   "outputs": [],
   "source": [
    "plot_data = pd.DataFrame(data)"
   ]
  },
  {
   "cell_type": "code",
   "execution_count": 159,
   "id": "df5e45a6",
   "metadata": {},
   "outputs": [
    {
     "data": {
      "text/plain": [
       "<AxesSubplot:xlabel='reads'>"
      ]
     },
     "execution_count": 159,
     "metadata": {},
     "output_type": "execute_result"
    },
    {
     "data": {
      "image/png": "[encoded data removed]",
      "text/plain": [
       "<Figure size 1296x576 with 1 Axes>"
      ]
     },
     "metadata": {
      "needs_background": "light"
     },
     "output_type": "display_data"
    }
   ],
   "source": [
    "plot_data.groupby(\"reads\").count().sort_index(key=lambda x: x.map(lambda v: int(v))).plot.bar(figsize=(18,8), width=0.8)"
   ]
  },
  {
   "cell_type": "code",
   "execution_count": 190,
   "id": "e887ecda",
   "metadata": {},
   "outputs": [
    {
     "data": {
      "text/html": [
       "<div>\n",
       "<style scoped>\n",
       "    .dataframe tbody tr th:only-of-type {\n",
       "        vertical-align: middle;\n",
       "    }\n",
       "\n",
       "    .dataframe tbody tr th {\n",
       "        vertical-align: top;\n",
       "    }\n",
       "\n",
       "    .dataframe thead th {\n",
       "        text-align: right;\n",
       "    }\n",
       "</style>\n",
       "<table border=\"1\" class=\"dataframe\">\n",
       "  <thead>\n",
       "    <tr style=\"text-align: right;\">\n",
       "      <th></th>\n",
       "      <th>reads</th>\n",
       "    </tr>\n",
       "    <tr>\n",
       "      <th>af</th>\n",
       "      <th></th>\n",
       "    </tr>\n",
       "  </thead>\n",
       "  <tbody>\n",
       "    <tr>\n",
       "      <th>0.00570322</th>\n",
       "      <td>1</td>\n",
       "    </tr>\n",
       "    <tr>\n",
       "      <th>0.00615778</th>\n",
       "      <td>1</td>\n",
       "    </tr>\n",
       "    <tr>\n",
       "      <th>0.0183206</th>\n",
       "      <td>1</td>\n",
       "    </tr>\n",
       "    <tr>\n",
       "      <th>0.0184332</th>\n",
       "      <td>1</td>\n",
       "    </tr>\n",
       "    <tr>\n",
       "      <th>0.0186047</th>\n",
       "      <td>1</td>\n",
       "    </tr>\n",
       "    <tr>\n",
       "      <th>...</th>\n",
       "      <td>...</td>\n",
       "    </tr>\n",
       "    <tr>\n",
       "      <th>0.96</th>\n",
       "      <td>1</td>\n",
       "    </tr>\n",
       "    <tr>\n",
       "      <th>0.962963</th>\n",
       "      <td>1</td>\n",
       "    </tr>\n",
       "    <tr>\n",
       "      <th>0.965517</th>\n",
       "      <td>1</td>\n",
       "    </tr>\n",
       "    <tr>\n",
       "      <th>0.974359</th>\n",
       "      <td>1</td>\n",
       "    </tr>\n",
       "    <tr>\n",
       "      <th>1</th>\n",
       "      <td>561</td>\n",
       "    </tr>\n",
       "  </tbody>\n",
       "</table>\n",
       "<p>1308 rows × 1 columns</p>\n",
       "</div>"
      ],
      "text/plain": [
       "            reads\n",
       "af               \n",
       "0.00570322      1\n",
       "0.00615778      1\n",
       "0.0183206       1\n",
       "0.0184332       1\n",
       "0.0186047       1\n",
       "...           ...\n",
       "0.96            1\n",
       "0.962963        1\n",
       "0.965517        1\n",
       "0.974359        1\n",
       "1             561\n",
       "\n",
       "[1308 rows x 1 columns]"
      ]
     },
     "execution_count": 190,
     "metadata": {},
     "output_type": "execute_result"
    }
   ],
   "source": [
    "#plot_data.groupby(\"af\").count().sort_index(key=lambda x: x.map(lambda v: int(v))).plot.bar(figsize=(18,8), width=0.8)\n",
    "plot_data.groupby(\"af\").count()"
   ]
  },
  {
   "cell_type": "code",
   "execution_count": 236,
   "id": "0f6ad632",
   "metadata": {},
   "outputs": [],
   "source": [
    "import numpy\n",
    "data = plot_data['af'].to_numpy(dtype='float32') #numpy.random.random(100)\n",
    "bins = numpy.linspace(0, 1.0, 20).round(2)\n",
    "digitized = numpy.digitize(data, bins)\n",
    "bin_means = [data[digitized == i].size for i in range(0, len(bins))]"
   ]
  },
  {
   "cell_type": "code",
   "execution_count": 239,
   "id": "a0bdd22d",
   "metadata": {},
   "outputs": [
    {
     "data": {
      "image/png": "[encoded data removed]",
      "text/plain": [
       "<Figure size 1296x432 with 1 Axes>"
      ]
     },
     "metadata": {},
     "output_type": "display_data"
    }
   ],
   "source": [
    "plt.style.use('ggplot')\n",
    "x = bins\n",
    "energy = bin_means\n",
    "\n",
    "x_pos = [i for i, _ in enumerate(x)]\n",
    "\n",
    "plt.figure(figsize=(18, 6))\n",
    "plt.bar(x_pos, energy)\n",
    "plt.xticks(x_pos, x)\n",
    "\n",
    "\n",
    "plt.show()"
   ]
  },
  {
   "cell_type": "code",
   "execution_count": null,
   "id": "aa418071",
   "metadata": {
    "scrolled": true
   },
   "outputs": [],
   "source": []
  },
  {
   "cell_type": "code",
   "execution_count": null,
   "id": "0d359202",
   "metadata": {},
   "outputs": [],
   "source": []
  },
  {
   "cell_type": "code",
   "execution_count": null,
   "id": "039239f1",
   "metadata": {},
   "outputs": [],
   "source": []
  }
 ],
 "metadata": {
  "kernelspec": {
   "display_name": "Python 3 (ipykernel)",
   "language": "python",
   "name": "python3"
  },
  "language_info": {
   "codemirror_mode": {
    "name": "ipython",
    "version": 3
   },
   "file_extension": ".py",
   "mimetype": "text/x-python",
   "name": "python",
   "nbconvert_exporter": "python",
   "pygments_lexer": "ipython3",
   "version": "3.7.10"
  }
 },
 "nbformat": 4,
 "nbformat_minor": 5
}
